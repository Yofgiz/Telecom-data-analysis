{
 "cells": [
  {
   "cell_type": "markdown",
   "metadata": {},
   "source": [
    "# Satisfaction Analysis"
   ]
  },
  {
   "cell_type": "code",
   "execution_count": 1,
   "metadata": {},
   "outputs": [],
   "source": [
    "#importing libraries\n",
    "import numpy as np\n",
    "import pandas as pd\n",
    "import plotly.graph_objects as go\n",
    "import plotly.express as px\n",
    "import seaborn as sns\n",
    "import matplotlib.pyplot as plt\n",
    "%matplotlib inline\n",
    "from statistics import *\n",
    "from sklearn import preprocessing\n",
    "from sklearn.cluster import KMeans\n",
    "from sklearn.preprocessing import StandardScaler\n",
    "from sklearn.model_selection import GridSearchCV\n",
    "from sklearn.linear_model import Ridge\n",
    "from sklearn.cluster import KMeans\n",
    "from sklearn.metrics.pairwise import euclidean_distances"
   ]
  },
  {
   "cell_type": "markdown",
   "metadata": {},
   "source": [
    "# Based on the engagement analysis + the experience analysis you conducted above ,"
   ]
  },
  {
   "cell_type": "markdown",
   "metadata": {},
   "source": [
    "Write a python program to assign:"
   ]
  },
  {
   "cell_type": "markdown",
   "metadata": {},
   "source": [
    "- engagement score to each user. Consider the engagement score as the Euclidean distance between the user data point & the less engaged cluster (use the first clustering for this) (Euclidean Distance)\n",
    "- experience score to each user. Consider the experience score as the Euclidean distance between the user data point & the worst experience’s cluster."
   ]
  },
  {
   "cell_type": "markdown",
   "metadata": {},
   "source": [
    "# Engagement score"
   ]
  },
  {
   "cell_type": "code",
   "execution_count": 6,
   "metadata": {},
   "outputs": [
    {
     "data": {
      "text/html": [
       "<div>\n",
       "<style scoped>\n",
       "    .dataframe tbody tr th:only-of-type {\n",
       "        vertical-align: middle;\n",
       "    }\n",
       "\n",
       "    .dataframe tbody tr th {\n",
       "        vertical-align: top;\n",
       "    }\n",
       "\n",
       "    .dataframe thead th {\n",
       "        text-align: right;\n",
       "    }\n",
       "</style>\n",
       "<table border=\"1\" class=\"dataframe\">\n",
       "  <thead>\n",
       "    <tr style=\"text-align: right;\">\n",
       "      <th></th>\n",
       "      <th>Total UL and DL</th>\n",
       "      <th>Dur. (ms)</th>\n",
       "      <th>sessions frequency</th>\n",
       "    </tr>\n",
       "  </thead>\n",
       "  <tbody>\n",
       "    <tr>\n",
       "      <th>0</th>\n",
       "      <td>-0.018266</td>\n",
       "      <td>5.431628</td>\n",
       "      <td>0.046955</td>\n",
       "    </tr>\n",
       "    <tr>\n",
       "      <th>1</th>\n",
       "      <td>-0.009948</td>\n",
       "      <td>1.332984</td>\n",
       "      <td>-0.210176</td>\n",
       "    </tr>\n",
       "    <tr>\n",
       "      <th>2</th>\n",
       "      <td>1.256253</td>\n",
       "      <td>-0.241265</td>\n",
       "      <td>-0.218358</td>\n",
       "    </tr>\n",
       "    <tr>\n",
       "      <th>3</th>\n",
       "      <td>-1.266658</td>\n",
       "      <td>-0.253828</td>\n",
       "      <td>-0.220158</td>\n",
       "    </tr>\n",
       "    <tr>\n",
       "      <th>4</th>\n",
       "      <td>0.010122</td>\n",
       "      <td>-0.050115</td>\n",
       "      <td>2.807734</td>\n",
       "    </tr>\n",
       "    <tr>\n",
       "      <th>5</th>\n",
       "      <td>-0.002853</td>\n",
       "      <td>-0.416422</td>\n",
       "      <td>-0.232556</td>\n",
       "    </tr>\n",
       "  </tbody>\n",
       "</table>\n",
       "</div>"
      ],
      "text/plain": [
       "   Total UL and DL  Dur. (ms)  sessions frequency\n",
       "0        -0.018266   5.431628            0.046955\n",
       "1        -0.009948   1.332984           -0.210176\n",
       "2         1.256253  -0.241265           -0.218358\n",
       "3        -1.266658  -0.253828           -0.220158\n",
       "4         0.010122  -0.050115            2.807734\n",
       "5        -0.002853  -0.416422           -0.232556"
      ]
     },
     "execution_count": 6,
     "metadata": {},
     "output_type": "execute_result"
    }
   ],
   "source": [
    "# centroid file from previous outputs\n",
    "enga_centr = pd.read_csv('../data/centero_engagment.csv')\n",
    "enga_centr = enga_centr.iloc[:,1:]\n",
    "enga_centr"
   ]
  },
  {
   "cell_type": "code",
   "execution_count": 7,
   "metadata": {},
   "outputs": [
    {
     "data": {
      "text/html": [
       "<div>\n",
       "<style scoped>\n",
       "    .dataframe tbody tr th:only-of-type {\n",
       "        vertical-align: middle;\n",
       "    }\n",
       "\n",
       "    .dataframe tbody tr th {\n",
       "        vertical-align: top;\n",
       "    }\n",
       "\n",
       "    .dataframe thead th {\n",
       "        text-align: right;\n",
       "    }\n",
       "</style>\n",
       "<table border=\"1\" class=\"dataframe\">\n",
       "  <thead>\n",
       "    <tr style=\"text-align: right;\">\n",
       "      <th></th>\n",
       "      <th>Total UL and DL</th>\n",
       "      <th>Dur. (ms)</th>\n",
       "      <th>sessions frequency</th>\n",
       "    </tr>\n",
       "    <tr>\n",
       "      <th>MSISDN/Number</th>\n",
       "      <th></th>\n",
       "      <th></th>\n",
       "      <th></th>\n",
       "    </tr>\n",
       "  </thead>\n",
       "  <tbody>\n",
       "    <tr>\n",
       "      <th>3.360100e+10</th>\n",
       "      <td>-1.158862</td>\n",
       "      <td>20.571127</td>\n",
       "      <td>-0.495197</td>\n",
       "    </tr>\n",
       "    <tr>\n",
       "      <th>3.360100e+10</th>\n",
       "      <td>0.921507</td>\n",
       "      <td>15.109232</td>\n",
       "      <td>-0.495197</td>\n",
       "    </tr>\n",
       "    <tr>\n",
       "      <th>3.360100e+10</th>\n",
       "      <td>-0.575403</td>\n",
       "      <td>15.069424</td>\n",
       "      <td>-0.495197</td>\n",
       "    </tr>\n",
       "    <tr>\n",
       "      <th>3.360101e+10</th>\n",
       "      <td>2.095055</td>\n",
       "      <td>14.589959</td>\n",
       "      <td>-0.495197</td>\n",
       "    </tr>\n",
       "    <tr>\n",
       "      <th>3.360101e+10</th>\n",
       "      <td>0.701781</td>\n",
       "      <td>11.820586</td>\n",
       "      <td>0.731244</td>\n",
       "    </tr>\n",
       "  </tbody>\n",
       "</table>\n",
       "</div>"
      ],
      "text/plain": [
       "               Total UL and DL  Dur. (ms)  sessions frequency\n",
       "MSISDN/Number                                                \n",
       "3.360100e+10         -1.158862  20.571127           -0.495197\n",
       "3.360100e+10          0.921507  15.109232           -0.495197\n",
       "3.360100e+10         -0.575403  15.069424           -0.495197\n",
       "3.360101e+10          2.095055  14.589959           -0.495197\n",
       "3.360101e+10          0.701781  11.820586            0.731244"
      ]
     },
     "execution_count": 7,
     "metadata": {},
     "output_type": "execute_result"
    }
   ],
   "source": [
    "# Import standardized engagement metric values \n",
    "enga_metr = pd.read_csv('../data/std_engagement.csv')\n",
    "enga_metr.index = enga_metr['MSISDN/Number']\n",
    "enga_metr = enga_metr.iloc[:,1:4]\n",
    "enga_metr.head()"
   ]
  },
  {
   "cell_type": "code",
   "execution_count": 8,
   "metadata": {},
   "outputs": [
    {
     "data": {
      "text/plain": [
       "array([[15.19208078],\n",
       "       [ 9.73822996],\n",
       "       [ 9.66909777],\n",
       "       ...,\n",
       "       [ 4.61464489],\n",
       "       [ 4.66646744],\n",
       "       [ 4.70325266]])"
      ]
     },
     "execution_count": 8,
     "metadata": {},
     "output_type": "execute_result"
    }
   ],
   "source": [
    "# calculating the distance between the metric values and the centroid of the the first k-means cluster\n",
    "engagement_score = euclidean_distances(enga_metr.values.tolist(),[enga_centr.values.tolist()[0]])\n",
    "engagement_score"
   ]
  },
  {
   "cell_type": "code",
   "execution_count": 9,
   "metadata": {},
   "outputs": [
    {
     "data": {
      "text/plain": [
       "[15.192080784619563, 9.738229960336461]"
      ]
     },
     "execution_count": 9,
     "metadata": {},
     "output_type": "execute_result"
    }
   ],
   "source": [
    "engagement_score = [val[0] for val in engagement_score.tolist()]\n",
    "engagement_score[:2]"
   ]
  },
  {
   "cell_type": "markdown",
   "metadata": {},
   "source": [
    "# Experience score"
   ]
  },
  {
   "cell_type": "code",
   "execution_count": 10,
   "metadata": {},
   "outputs": [
    {
     "data": {
      "text/html": [
       "<div>\n",
       "<style scoped>\n",
       "    .dataframe tbody tr th:only-of-type {\n",
       "        vertical-align: middle;\n",
       "    }\n",
       "\n",
       "    .dataframe tbody tr th {\n",
       "        vertical-align: top;\n",
       "    }\n",
       "\n",
       "    .dataframe thead th {\n",
       "        text-align: right;\n",
       "    }\n",
       "</style>\n",
       "<table border=\"1\" class=\"dataframe\">\n",
       "  <thead>\n",
       "    <tr style=\"text-align: right;\">\n",
       "      <th></th>\n",
       "      <th>Average RTT</th>\n",
       "      <th>Average TCP</th>\n",
       "      <th>Average throughput</th>\n",
       "    </tr>\n",
       "  </thead>\n",
       "  <tbody>\n",
       "    <tr>\n",
       "      <th>0</th>\n",
       "      <td>0.519163</td>\n",
       "      <td>-0.346220</td>\n",
       "      <td>1.408649</td>\n",
       "    </tr>\n",
       "    <tr>\n",
       "      <th>1</th>\n",
       "      <td>-1.230901</td>\n",
       "      <td>0.827293</td>\n",
       "      <td>-0.151644</td>\n",
       "    </tr>\n",
       "    <tr>\n",
       "      <th>2</th>\n",
       "      <td>0.750094</td>\n",
       "      <td>-0.505829</td>\n",
       "      <td>-0.744192</td>\n",
       "    </tr>\n",
       "  </tbody>\n",
       "</table>\n",
       "</div>"
      ],
      "text/plain": [
       "   Average RTT  Average TCP  Average throughput\n",
       "0     0.519163    -0.346220            1.408649\n",
       "1    -1.230901     0.827293           -0.151644\n",
       "2     0.750094    -0.505829           -0.744192"
      ]
     },
     "execution_count": 10,
     "metadata": {},
     "output_type": "execute_result"
    }
   ],
   "source": [
    "# Get centroid value from the previous files\n",
    "exper_centr = pd.read_csv('../data/centro_experience.csv')\n",
    "exper_centr = exper_centr.iloc[:,1:]\n",
    "exper_centr"
   ]
  },
  {
   "cell_type": "code",
   "execution_count": 11,
   "metadata": {},
   "outputs": [
    {
     "data": {
      "text/html": [
       "<div>\n",
       "<style scoped>\n",
       "    .dataframe tbody tr th:only-of-type {\n",
       "        vertical-align: middle;\n",
       "    }\n",
       "\n",
       "    .dataframe tbody tr th {\n",
       "        vertical-align: top;\n",
       "    }\n",
       "\n",
       "    .dataframe thead th {\n",
       "        text-align: right;\n",
       "    }\n",
       "</style>\n",
       "<table border=\"1\" class=\"dataframe\">\n",
       "  <thead>\n",
       "    <tr style=\"text-align: right;\">\n",
       "      <th></th>\n",
       "      <th>Average TCP</th>\n",
       "      <th>Average throughput</th>\n",
       "      <th>Average RTT</th>\n",
       "    </tr>\n",
       "    <tr>\n",
       "      <th>MSISDN/Number</th>\n",
       "      <th></th>\n",
       "      <th></th>\n",
       "      <th></th>\n",
       "    </tr>\n",
       "  </thead>\n",
       "  <tbody>\n",
       "    <tr>\n",
       "      <th>3.366117e+10</th>\n",
       "      <td>-1.357519</td>\n",
       "      <td>15.220434</td>\n",
       "      <td>0.510533</td>\n",
       "    </tr>\n",
       "    <tr>\n",
       "      <th>3.369817e+10</th>\n",
       "      <td>0.711986</td>\n",
       "      <td>11.928930</td>\n",
       "      <td>-0.596697</td>\n",
       "    </tr>\n",
       "    <tr>\n",
       "      <th>3.367251e+10</th>\n",
       "      <td>-1.480467</td>\n",
       "      <td>11.918292</td>\n",
       "      <td>-0.714487</td>\n",
       "    </tr>\n",
       "    <tr>\n",
       "      <th>3.365169e+10</th>\n",
       "      <td>-1.396600</td>\n",
       "      <td>10.960414</td>\n",
       "      <td>-0.855836</td>\n",
       "    </tr>\n",
       "    <tr>\n",
       "      <th>3.366856e+10</th>\n",
       "      <td>0.692157</td>\n",
       "      <td>10.681835</td>\n",
       "      <td>-0.596697</td>\n",
       "    </tr>\n",
       "    <tr>\n",
       "      <th>...</th>\n",
       "      <td>...</td>\n",
       "      <td>...</td>\n",
       "      <td>...</td>\n",
       "    </tr>\n",
       "    <tr>\n",
       "      <th>3.363439e+10</th>\n",
       "      <td>0.761222</td>\n",
       "      <td>-0.552987</td>\n",
       "      <td>-0.643813</td>\n",
       "    </tr>\n",
       "    <tr>\n",
       "      <th>3.376049e+10</th>\n",
       "      <td>0.761222</td>\n",
       "      <td>-0.552987</td>\n",
       "      <td>-0.997184</td>\n",
       "    </tr>\n",
       "    <tr>\n",
       "      <th>3.375084e+10</th>\n",
       "      <td>0.761222</td>\n",
       "      <td>-0.552987</td>\n",
       "      <td>-0.855836</td>\n",
       "    </tr>\n",
       "    <tr>\n",
       "      <th>3.366549e+10</th>\n",
       "      <td>0.761222</td>\n",
       "      <td>-0.552987</td>\n",
       "      <td>-1.256323</td>\n",
       "    </tr>\n",
       "    <tr>\n",
       "      <th>3.376207e+10</th>\n",
       "      <td>0.761222</td>\n",
       "      <td>-0.552987</td>\n",
       "      <td>-1.256323</td>\n",
       "    </tr>\n",
       "  </tbody>\n",
       "</table>\n",
       "<p>106856 rows × 3 columns</p>\n",
       "</div>"
      ],
      "text/plain": [
       "               Average TCP  Average throughput  Average RTT\n",
       "MSISDN/Number                                              \n",
       "3.366117e+10     -1.357519           15.220434     0.510533\n",
       "3.369817e+10      0.711986           11.928930    -0.596697\n",
       "3.367251e+10     -1.480467           11.918292    -0.714487\n",
       "3.365169e+10     -1.396600           10.960414    -0.855836\n",
       "3.366856e+10      0.692157           10.681835    -0.596697\n",
       "...                    ...                 ...          ...\n",
       "3.363439e+10      0.761222           -0.552987    -0.643813\n",
       "3.376049e+10      0.761222           -0.552987    -0.997184\n",
       "3.375084e+10      0.761222           -0.552987    -0.855836\n",
       "3.366549e+10      0.761222           -0.552987    -1.256323\n",
       "3.376207e+10      0.761222           -0.552987    -1.256323\n",
       "\n",
       "[106856 rows x 3 columns]"
      ]
     },
     "execution_count": 11,
     "metadata": {},
     "output_type": "execute_result"
    }
   ],
   "source": [
    "# standardized experience metric values\n",
    "exper_metr = pd.read_csv('../data/std_experience.csv')\n",
    "exper_metr.index = exper_metr['MSISDN/Number']\n",
    "exper_metr = exper_metr.iloc[:106856,1:4]\n",
    "exper_metr"
   ]
  },
  {
   "cell_type": "code",
   "execution_count": 12,
   "metadata": {},
   "outputs": [
    {
     "data": {
      "text/plain": [
       "array([[15.70507097],\n",
       "       [12.43936888],\n",
       "       [12.60652581],\n",
       "       ...,\n",
       "       [ 2.28675205],\n",
       "       [ 2.68391874],\n",
       "       [ 2.68391874]])"
      ]
     },
     "execution_count": 12,
     "metadata": {},
     "output_type": "execute_result"
    }
   ],
   "source": [
    "# Calculating the distance between the metric values and the centroid of the the first k-means cluster\n",
    "experience_score = euclidean_distances(exper_metr.values.tolist(),[exper_centr.values.tolist()[0]])\n",
    "experience_score"
   ]
  },
  {
   "cell_type": "code",
   "execution_count": 13,
   "metadata": {},
   "outputs": [
    {
     "data": {
      "text/plain": [
       "[15.705070965942097, 12.439368876993292]"
      ]
     },
     "execution_count": 13,
     "metadata": {},
     "output_type": "execute_result"
    }
   ],
   "source": [
    "experience_score = [val[0] for val in experience_score.tolist()]\n",
    "experience_score[:2]"
   ]
  },
  {
   "cell_type": "markdown",
   "metadata": {},
   "source": [
    "# Consider the average of both engagement & experience scores as the satisfaction score & report the top 10 satisfied customer"
   ]
  },
  {
   "cell_type": "code",
   "execution_count": 14,
   "metadata": {},
   "outputs": [
    {
     "data": {
      "text/html": [
       "<div>\n",
       "<style scoped>\n",
       "    .dataframe tbody tr th:only-of-type {\n",
       "        vertical-align: middle;\n",
       "    }\n",
       "\n",
       "    .dataframe tbody tr th {\n",
       "        vertical-align: top;\n",
       "    }\n",
       "\n",
       "    .dataframe thead th {\n",
       "        text-align: right;\n",
       "    }\n",
       "</style>\n",
       "<table border=\"1\" class=\"dataframe\">\n",
       "  <thead>\n",
       "    <tr style=\"text-align: right;\">\n",
       "      <th></th>\n",
       "      <th>engagement_score</th>\n",
       "      <th>experience_score</th>\n",
       "    </tr>\n",
       "    <tr>\n",
       "      <th>MSISDN/Number</th>\n",
       "      <th></th>\n",
       "      <th></th>\n",
       "    </tr>\n",
       "  </thead>\n",
       "  <tbody>\n",
       "    <tr>\n",
       "      <th>3.360100e+10</th>\n",
       "      <td>15.192081</td>\n",
       "      <td>15.705071</td>\n",
       "    </tr>\n",
       "    <tr>\n",
       "      <th>3.360100e+10</th>\n",
       "      <td>9.738230</td>\n",
       "      <td>12.439369</td>\n",
       "    </tr>\n",
       "    <tr>\n",
       "      <th>3.360100e+10</th>\n",
       "      <td>9.669098</td>\n",
       "      <td>12.606526</td>\n",
       "    </tr>\n",
       "    <tr>\n",
       "      <th>3.360101e+10</th>\n",
       "      <td>9.414621</td>\n",
       "      <td>11.689226</td>\n",
       "    </tr>\n",
       "    <tr>\n",
       "      <th>3.360101e+10</th>\n",
       "      <td>6.465718</td>\n",
       "      <td>11.210234</td>\n",
       "    </tr>\n",
       "  </tbody>\n",
       "</table>\n",
       "</div>"
      ],
      "text/plain": [
       "               engagement_score  experience_score\n",
       "MSISDN/Number                                    \n",
       "3.360100e+10          15.192081         15.705071\n",
       "3.360100e+10           9.738230         12.439369\n",
       "3.360100e+10           9.669098         12.606526\n",
       "3.360101e+10           9.414621         11.689226\n",
       "3.360101e+10           6.465718         11.210234"
      ]
     },
     "execution_count": 14,
     "metadata": {},
     "output_type": "execute_result"
    }
   ],
   "source": [
    "#creating a dataframe to contain both engagement and experience score with index being 'MSISDN/Number' to identify the user\n",
    "df = pd.DataFrame()\n",
    "df['engagement_score'] = engagement_score\n",
    "df['experience_score'] = experience_score\n",
    "df.index = enga_metr.index\n",
    "#result\n",
    "df.head()"
   ]
  },
  {
   "cell_type": "code",
   "execution_count": 15,
   "metadata": {},
   "outputs": [
    {
     "data": {
      "text/html": [
       "<div>\n",
       "<style scoped>\n",
       "    .dataframe tbody tr th:only-of-type {\n",
       "        vertical-align: middle;\n",
       "    }\n",
       "\n",
       "    .dataframe tbody tr th {\n",
       "        vertical-align: top;\n",
       "    }\n",
       "\n",
       "    .dataframe thead th {\n",
       "        text-align: right;\n",
       "    }\n",
       "</style>\n",
       "<table border=\"1\" class=\"dataframe\">\n",
       "  <thead>\n",
       "    <tr style=\"text-align: right;\">\n",
       "      <th></th>\n",
       "      <th>engagement_score</th>\n",
       "      <th>experience_score</th>\n",
       "      <th>satisfaction_score</th>\n",
       "    </tr>\n",
       "    <tr>\n",
       "      <th>MSISDN/Number</th>\n",
       "      <th></th>\n",
       "      <th></th>\n",
       "      <th></th>\n",
       "    </tr>\n",
       "  </thead>\n",
       "  <tbody>\n",
       "    <tr>\n",
       "      <th>3.360100e+10</th>\n",
       "      <td>15.192081</td>\n",
       "      <td>15.705071</td>\n",
       "      <td>15.448576</td>\n",
       "    </tr>\n",
       "    <tr>\n",
       "      <th>3.360100e+10</th>\n",
       "      <td>9.738230</td>\n",
       "      <td>12.439369</td>\n",
       "      <td>11.088799</td>\n",
       "    </tr>\n",
       "    <tr>\n",
       "      <th>3.360100e+10</th>\n",
       "      <td>9.669098</td>\n",
       "      <td>12.606526</td>\n",
       "      <td>11.137812</td>\n",
       "    </tr>\n",
       "    <tr>\n",
       "      <th>3.360101e+10</th>\n",
       "      <td>9.414621</td>\n",
       "      <td>11.689226</td>\n",
       "      <td>10.551924</td>\n",
       "    </tr>\n",
       "    <tr>\n",
       "      <th>3.360101e+10</th>\n",
       "      <td>6.465718</td>\n",
       "      <td>11.210234</td>\n",
       "      <td>8.837976</td>\n",
       "    </tr>\n",
       "  </tbody>\n",
       "</table>\n",
       "</div>"
      ],
      "text/plain": [
       "               engagement_score  experience_score  satisfaction_score\n",
       "MSISDN/Number                                                        \n",
       "3.360100e+10          15.192081         15.705071           15.448576\n",
       "3.360100e+10           9.738230         12.439369           11.088799\n",
       "3.360100e+10           9.669098         12.606526           11.137812\n",
       "3.360101e+10           9.414621         11.689226           10.551924\n",
       "3.360101e+10           6.465718         11.210234            8.837976"
      ]
     },
     "execution_count": 15,
     "metadata": {},
     "output_type": "execute_result"
    }
   ],
   "source": [
    "# Creating a new column for the dataframe representing satisfaction calculated as an average of engagement and experience score\n",
    "df['satisfaction_score'] = (df['engagement_score'] + df['experience_score'])/2\n",
    "df.head()"
   ]
  },
  {
   "cell_type": "code",
   "execution_count": 16,
   "metadata": {},
   "outputs": [
    {
     "data": {
      "text/html": [
       "<div>\n",
       "<style scoped>\n",
       "    .dataframe tbody tr th:only-of-type {\n",
       "        vertical-align: middle;\n",
       "    }\n",
       "\n",
       "    .dataframe tbody tr th {\n",
       "        vertical-align: top;\n",
       "    }\n",
       "\n",
       "    .dataframe thead th {\n",
       "        text-align: right;\n",
       "    }\n",
       "</style>\n",
       "<table border=\"1\" class=\"dataframe\">\n",
       "  <thead>\n",
       "    <tr style=\"text-align: right;\">\n",
       "      <th></th>\n",
       "      <th>engagement_score</th>\n",
       "      <th>experience_score</th>\n",
       "      <th>satisfaction_score</th>\n",
       "    </tr>\n",
       "    <tr>\n",
       "      <th>MSISDN/Number</th>\n",
       "      <th></th>\n",
       "      <th></th>\n",
       "      <th></th>\n",
       "    </tr>\n",
       "  </thead>\n",
       "  <tbody>\n",
       "    <tr>\n",
       "      <th>3.360100e+10</th>\n",
       "      <td>15.192081</td>\n",
       "      <td>15.705071</td>\n",
       "      <td>15.448576</td>\n",
       "    </tr>\n",
       "    <tr>\n",
       "      <th>3.362632e+10</th>\n",
       "      <td>21.296090</td>\n",
       "      <td>2.268546</td>\n",
       "      <td>11.782318</td>\n",
       "    </tr>\n",
       "    <tr>\n",
       "      <th>3.361489e+10</th>\n",
       "      <td>20.047971</td>\n",
       "      <td>3.385017</td>\n",
       "      <td>11.716494</td>\n",
       "    </tr>\n",
       "    <tr>\n",
       "      <th>3.362578e+10</th>\n",
       "      <td>20.110156</td>\n",
       "      <td>3.182472</td>\n",
       "      <td>11.646314</td>\n",
       "    </tr>\n",
       "    <tr>\n",
       "      <th>3.360100e+10</th>\n",
       "      <td>9.669098</td>\n",
       "      <td>12.606526</td>\n",
       "      <td>11.137812</td>\n",
       "    </tr>\n",
       "    <tr>\n",
       "      <th>3.360100e+10</th>\n",
       "      <td>9.738230</td>\n",
       "      <td>12.439369</td>\n",
       "      <td>11.088799</td>\n",
       "    </tr>\n",
       "    <tr>\n",
       "      <th>3.365973e+10</th>\n",
       "      <td>18.700767</td>\n",
       "      <td>2.591842</td>\n",
       "      <td>10.646304</td>\n",
       "    </tr>\n",
       "    <tr>\n",
       "      <th>3.360101e+10</th>\n",
       "      <td>9.414621</td>\n",
       "      <td>11.689226</td>\n",
       "      <td>10.551924</td>\n",
       "    </tr>\n",
       "    <tr>\n",
       "      <th>3.376054e+10</th>\n",
       "      <td>17.873262</td>\n",
       "      <td>2.654755</td>\n",
       "      <td>10.264008</td>\n",
       "    </tr>\n",
       "    <tr>\n",
       "      <th>3.367588e+10</th>\n",
       "      <td>17.531408</td>\n",
       "      <td>2.520187</td>\n",
       "      <td>10.025798</td>\n",
       "    </tr>\n",
       "  </tbody>\n",
       "</table>\n",
       "</div>"
      ],
      "text/plain": [
       "               engagement_score  experience_score  satisfaction_score\n",
       "MSISDN/Number                                                        \n",
       "3.360100e+10          15.192081         15.705071           15.448576\n",
       "3.362632e+10          21.296090          2.268546           11.782318\n",
       "3.361489e+10          20.047971          3.385017           11.716494\n",
       "3.362578e+10          20.110156          3.182472           11.646314\n",
       "3.360100e+10           9.669098         12.606526           11.137812\n",
       "3.360100e+10           9.738230         12.439369           11.088799\n",
       "3.365973e+10          18.700767          2.591842           10.646304\n",
       "3.360101e+10           9.414621         11.689226           10.551924\n",
       "3.376054e+10          17.873262          2.654755           10.264008\n",
       "3.367588e+10          17.531408          2.520187           10.025798"
      ]
     },
     "execution_count": 16,
     "metadata": {},
     "output_type": "execute_result"
    }
   ],
   "source": [
    "top10_satisfied_customers = df.sort_values(by='satisfaction_score', ascending=False).iloc[:10,:]\n",
    "top10_satisfied_customers.to_csv('../data/top10_satisfied_customers.csv')\n",
    "top10_satisfied_customers"
   ]
  },
  {
   "cell_type": "markdown",
   "metadata": {},
   "source": [
    "# Build a regression model of your choice to predict the satisfaction score of a customer."
   ]
  },
  {
   "cell_type": "code",
   "execution_count": 17,
   "metadata": {},
   "outputs": [
    {
     "data": {
      "text/html": [
       "<div>\n",
       "<style scoped>\n",
       "    .dataframe tbody tr th:only-of-type {\n",
       "        vertical-align: middle;\n",
       "    }\n",
       "\n",
       "    .dataframe tbody tr th {\n",
       "        vertical-align: top;\n",
       "    }\n",
       "\n",
       "    .dataframe thead th {\n",
       "        text-align: right;\n",
       "    }\n",
       "</style>\n",
       "<table border=\"1\" class=\"dataframe\">\n",
       "  <thead>\n",
       "    <tr style=\"text-align: right;\">\n",
       "      <th></th>\n",
       "      <th>Total UL and DL</th>\n",
       "      <th>Dur. (ms)</th>\n",
       "      <th>sessions frequency</th>\n",
       "      <th>Average TCP</th>\n",
       "      <th>Average RTT</th>\n",
       "      <th>Average throughput</th>\n",
       "      <th>satisfaction_score</th>\n",
       "    </tr>\n",
       "    <tr>\n",
       "      <th>MSISDN/Number</th>\n",
       "      <th></th>\n",
       "      <th></th>\n",
       "      <th></th>\n",
       "      <th></th>\n",
       "      <th></th>\n",
       "      <th></th>\n",
       "      <th></th>\n",
       "    </tr>\n",
       "  </thead>\n",
       "  <tbody>\n",
       "    <tr>\n",
       "      <th>3.360100e+10</th>\n",
       "      <td>-1.158862</td>\n",
       "      <td>20.571127</td>\n",
       "      <td>-0.495197</td>\n",
       "      <td>-1.357519</td>\n",
       "      <td>0.510533</td>\n",
       "      <td>15.220434</td>\n",
       "      <td>15.448576</td>\n",
       "    </tr>\n",
       "    <tr>\n",
       "      <th>3.360100e+10</th>\n",
       "      <td>0.921507</td>\n",
       "      <td>15.109232</td>\n",
       "      <td>-0.495197</td>\n",
       "      <td>0.711986</td>\n",
       "      <td>-0.596697</td>\n",
       "      <td>11.928930</td>\n",
       "      <td>11.088799</td>\n",
       "    </tr>\n",
       "    <tr>\n",
       "      <th>3.360100e+10</th>\n",
       "      <td>-0.575403</td>\n",
       "      <td>15.069424</td>\n",
       "      <td>-0.495197</td>\n",
       "      <td>-1.480467</td>\n",
       "      <td>-0.714487</td>\n",
       "      <td>11.918292</td>\n",
       "      <td>11.137812</td>\n",
       "    </tr>\n",
       "    <tr>\n",
       "      <th>3.360101e+10</th>\n",
       "      <td>2.095055</td>\n",
       "      <td>14.589959</td>\n",
       "      <td>-0.495197</td>\n",
       "      <td>-1.396600</td>\n",
       "      <td>-0.855836</td>\n",
       "      <td>10.960414</td>\n",
       "      <td>10.551924</td>\n",
       "    </tr>\n",
       "    <tr>\n",
       "      <th>3.360101e+10</th>\n",
       "      <td>0.701781</td>\n",
       "      <td>11.820586</td>\n",
       "      <td>0.731244</td>\n",
       "      <td>0.692157</td>\n",
       "      <td>-0.596697</td>\n",
       "      <td>10.681835</td>\n",
       "      <td>8.837976</td>\n",
       "    </tr>\n",
       "  </tbody>\n",
       "</table>\n",
       "</div>"
      ],
      "text/plain": [
       "               Total UL and DL  Dur. (ms)  sessions frequency  Average TCP  \\\n",
       "MSISDN/Number                                                                \n",
       "3.360100e+10         -1.158862  20.571127           -0.495197    -1.357519   \n",
       "3.360100e+10          0.921507  15.109232           -0.495197     0.711986   \n",
       "3.360100e+10         -0.575403  15.069424           -0.495197    -1.480467   \n",
       "3.360101e+10          2.095055  14.589959           -0.495197    -1.396600   \n",
       "3.360101e+10          0.701781  11.820586            0.731244     0.692157   \n",
       "\n",
       "               Average RTT  Average throughput  satisfaction_score  \n",
       "MSISDN/Number                                                       \n",
       "3.360100e+10      0.510533           15.220434           15.448576  \n",
       "3.360100e+10     -0.596697           11.928930           11.088799  \n",
       "3.360100e+10     -0.714487           11.918292           11.137812  \n",
       "3.360101e+10     -0.855836           10.960414           10.551924  \n",
       "3.360101e+10     -0.596697           10.681835            8.837976  "
      ]
     },
     "execution_count": 17,
     "metadata": {},
     "output_type": "execute_result"
    }
   ],
   "source": [
    "# Form a new Model training Dataframe consisting all of the columns\n",
    "train_df = enga_metr.copy(deep=True)\n",
    "train_df['Average TCP'] = exper_metr['Average TCP'].to_list()\n",
    "train_df['Average RTT'] = exper_metr['Average RTT'].to_list()\n",
    "train_df['Average throughput'] = exper_metr['Average throughput'].to_list()\n",
    "# Adding our average satisfaction score (this is going to be our predicted value)\n",
    "train_df['satisfaction_score'] = df['satisfaction_score'].to_list()\n",
    "train_df.head()"
   ]
  },
  {
   "cell_type": "code",
   "execution_count": 18,
   "metadata": {},
   "outputs": [],
   "source": [
    "# Dividing the train data into actual train data (train + validation) and test data\n",
    "# 80 (60 + 20) and 20\n",
    "train_data = train_df.iloc[:int(len(train_df) * 0.8),:]\n",
    "test_data = train_df.iloc[int(len(train_df) * 0.8):,:]"
   ]
  },
  {
   "cell_type": "code",
   "execution_count": 19,
   "metadata": {},
   "outputs": [],
   "source": [
    "train_x = train_data.iloc[:,:-1]\n",
    "train_y = train_data.iloc[:,-1:]\n",
    "# \n",
    "test_x = test_data.iloc[:,:-1]\n",
    "test_y = test_data.iloc[:,-1:]"
   ]
  },
  {
   "cell_type": "code",
   "execution_count": 20,
   "metadata": {},
   "outputs": [],
   "source": [
    "from sklearn.model_selection import train_test_split\n",
    "xtrain,xtest,ytrain,ytest = train_test_split(train_x,train_y,test_size=0.2,random_state=40)"
   ]
  },
  {
   "cell_type": "code",
   "execution_count": 21,
   "metadata": {},
   "outputs": [
    {
     "name": "stdout",
     "output_type": "stream",
     "text": [
      "The model score is: 0.79225\n"
     ]
    }
   ],
   "source": [
    "# Training the Ridge Regression Model on the splited training data\n",
    "# Implementing Ridge Regression Model\n",
    "alpha_val = 0.8\n",
    "rr = Ridge(alpha=alpha_val)\n",
    "rr.fit(xtrain, ytrain)\n",
    "# Validation value of the model\n",
    "validation_score = rr.score(xtest, ytest)\n",
    "print(\"The model score is: {:.5f}\".format(validation_score))"
   ]
  },
  {
   "cell_type": "code",
   "execution_count": 22,
   "metadata": {},
   "outputs": [
    {
     "name": "stdout",
     "output_type": "stream",
     "text": [
      "The model final score is: 0.75017\n"
     ]
    }
   ],
   "source": [
    "# Training the best Model(Ridge) on the whole train data\n",
    "rr.fit(train_x, train_y)\n",
    "# Test on the test data\n",
    "final_score = rr.score(test_x,test_y)\n",
    "print(\"The model final score is: {:.5f}\".format(final_score))"
   ]
  },
  {
   "cell_type": "code",
   "execution_count": 23,
   "metadata": {},
   "outputs": [
    {
     "data": {
      "text/plain": [
       "['../models/satisfaction_model.joblib']"
      ]
     },
     "execution_count": 23,
     "metadata": {},
     "output_type": "execute_result"
    }
   ],
   "source": [
    "from joblib import dump\n",
    "# Saving the final Model using joblibs dump\n",
    "dump(rr, '../models/satisfaction_model.joblib')"
   ]
  },
  {
   "cell_type": "markdown",
   "metadata": {},
   "source": [
    "# Run a k-means (k=2) on the engagement & the experience score ."
   ]
  },
  {
   "cell_type": "code",
   "execution_count": 24,
   "metadata": {},
   "outputs": [
    {
     "data": {
      "text/html": [
       "<div>\n",
       "<style scoped>\n",
       "    .dataframe tbody tr th:only-of-type {\n",
       "        vertical-align: middle;\n",
       "    }\n",
       "\n",
       "    .dataframe tbody tr th {\n",
       "        vertical-align: top;\n",
       "    }\n",
       "\n",
       "    .dataframe thead th {\n",
       "        text-align: right;\n",
       "    }\n",
       "</style>\n",
       "<table border=\"1\" class=\"dataframe\">\n",
       "  <thead>\n",
       "    <tr style=\"text-align: right;\">\n",
       "      <th></th>\n",
       "      <th>engagement_score</th>\n",
       "      <th>experience_score</th>\n",
       "    </tr>\n",
       "    <tr>\n",
       "      <th>MSISDN/Number</th>\n",
       "      <th></th>\n",
       "      <th></th>\n",
       "    </tr>\n",
       "  </thead>\n",
       "  <tbody>\n",
       "    <tr>\n",
       "      <th>3.360100e+10</th>\n",
       "      <td>15.192081</td>\n",
       "      <td>15.705071</td>\n",
       "    </tr>\n",
       "    <tr>\n",
       "      <th>3.360100e+10</th>\n",
       "      <td>9.738230</td>\n",
       "      <td>12.439369</td>\n",
       "    </tr>\n",
       "    <tr>\n",
       "      <th>3.360100e+10</th>\n",
       "      <td>9.669098</td>\n",
       "      <td>12.606526</td>\n",
       "    </tr>\n",
       "    <tr>\n",
       "      <th>3.360101e+10</th>\n",
       "      <td>9.414621</td>\n",
       "      <td>11.689226</td>\n",
       "    </tr>\n",
       "    <tr>\n",
       "      <th>3.360101e+10</th>\n",
       "      <td>6.465718</td>\n",
       "      <td>11.210234</td>\n",
       "    </tr>\n",
       "  </tbody>\n",
       "</table>\n",
       "</div>"
      ],
      "text/plain": [
       "               engagement_score  experience_score\n",
       "MSISDN/Number                                    \n",
       "3.360100e+10          15.192081         15.705071\n",
       "3.360100e+10           9.738230         12.439369\n",
       "3.360100e+10           9.669098         12.606526\n",
       "3.360101e+10           9.414621         11.689226\n",
       "3.360101e+10           6.465718         11.210234"
      ]
     },
     "execution_count": 24,
     "metadata": {},
     "output_type": "execute_result"
    }
   ],
   "source": [
    "cluster_df = df.iloc[:,:2]\n",
    "cluster_df.head()"
   ]
  },
  {
   "cell_type": "code",
   "execution_count": 25,
   "metadata": {},
   "outputs": [],
   "source": [
    "# Creating a k-means cluster with 2 number of clusters\n",
    "km = KMeans(init=\"random\",n_clusters=2,n_init=10,max_iter=300,random_state=42)\n",
    "label = km.fit_predict(cluster_df)\n",
    "centroids = km.cluster_centers_"
   ]
  },
  {
   "cell_type": "code",
   "execution_count": 26,
   "metadata": {},
   "outputs": [
    {
     "data": {
      "image/png": "[encoded data removed]",
      "text/plain": [
       "<Figure size 1000x500 with 1 Axes>"
      ]
     },
     "metadata": {},
     "output_type": "display_data"
    }
   ],
   "source": [
    "#plotting the results:\n",
    "plt.figure(figsize=(10,5))\n",
    "u_labels = np.unique(label)\n",
    "plt.title(f'clustering on engagement score + experience score')\n",
    "for i in u_labels:\n",
    "    plt.scatter(cluster_df[label == i].iloc[:,0] , cluster_df[label == i].iloc[:,1], marker='o', label = i)\n",
    "plt.scatter(centroids[:,0] , centroids[:,1], marker='x', color = 'black')\n",
    "plt.xlabel(\"engagement score\")\n",
    "plt.ylabel(\"experience score\")\n",
    "plt.legend()\n",
    "plt.show()"
   ]
  },
  {
   "cell_type": "markdown",
   "metadata": {},
   "source": [
    "# Aggregate the average satisfaction & experience score per cluster."
   ]
  },
  {
   "cell_type": "code",
   "execution_count": 27,
   "metadata": {},
   "outputs": [
    {
     "data": {
      "text/html": [
       "<div>\n",
       "<style scoped>\n",
       "    .dataframe tbody tr th:only-of-type {\n",
       "        vertical-align: middle;\n",
       "    }\n",
       "\n",
       "    .dataframe tbody tr th {\n",
       "        vertical-align: top;\n",
       "    }\n",
       "\n",
       "    .dataframe thead th {\n",
       "        text-align: right;\n",
       "    }\n",
       "</style>\n",
       "<table border=\"1\" class=\"dataframe\">\n",
       "  <thead>\n",
       "    <tr style=\"text-align: right;\">\n",
       "      <th></th>\n",
       "      <th>engagement_score</th>\n",
       "      <th>experience_score</th>\n",
       "      <th>satisfaction_score</th>\n",
       "    </tr>\n",
       "    <tr>\n",
       "      <th>MSISDN/Number</th>\n",
       "      <th></th>\n",
       "      <th></th>\n",
       "      <th></th>\n",
       "    </tr>\n",
       "  </thead>\n",
       "  <tbody>\n",
       "    <tr>\n",
       "      <th>3.360100e+10</th>\n",
       "      <td>15.192081</td>\n",
       "      <td>15.705071</td>\n",
       "      <td>15.448576</td>\n",
       "    </tr>\n",
       "    <tr>\n",
       "      <th>3.360100e+10</th>\n",
       "      <td>9.738230</td>\n",
       "      <td>12.439369</td>\n",
       "      <td>11.088799</td>\n",
       "    </tr>\n",
       "    <tr>\n",
       "      <th>3.360100e+10</th>\n",
       "      <td>9.669098</td>\n",
       "      <td>12.606526</td>\n",
       "      <td>11.137812</td>\n",
       "    </tr>\n",
       "    <tr>\n",
       "      <th>3.360101e+10</th>\n",
       "      <td>9.414621</td>\n",
       "      <td>11.689226</td>\n",
       "      <td>10.551924</td>\n",
       "    </tr>\n",
       "    <tr>\n",
       "      <th>3.360101e+10</th>\n",
       "      <td>6.465718</td>\n",
       "      <td>11.210234</td>\n",
       "      <td>8.837976</td>\n",
       "    </tr>\n",
       "  </tbody>\n",
       "</table>\n",
       "</div>"
      ],
      "text/plain": [
       "               engagement_score  experience_score  satisfaction_score\n",
       "MSISDN/Number                                                        \n",
       "3.360100e+10          15.192081         15.705071           15.448576\n",
       "3.360100e+10           9.738230         12.439369           11.088799\n",
       "3.360100e+10           9.669098         12.606526           11.137812\n",
       "3.360101e+10           9.414621         11.689226           10.551924\n",
       "3.360101e+10           6.465718         11.210234            8.837976"
      ]
     },
     "execution_count": 27,
     "metadata": {},
     "output_type": "execute_result"
    }
   ],
   "source": [
    "df.head()"
   ]
  },
  {
   "cell_type": "code",
   "execution_count": 28,
   "metadata": {},
   "outputs": [
    {
     "data": {
      "text/html": [
       "<div>\n",
       "<style scoped>\n",
       "    .dataframe tbody tr th:only-of-type {\n",
       "        vertical-align: middle;\n",
       "    }\n",
       "\n",
       "    .dataframe tbody tr th {\n",
       "        vertical-align: top;\n",
       "    }\n",
       "\n",
       "    .dataframe thead th {\n",
       "        text-align: right;\n",
       "    }\n",
       "</style>\n",
       "<table border=\"1\" class=\"dataframe\">\n",
       "  <thead>\n",
       "    <tr style=\"text-align: right;\">\n",
       "      <th></th>\n",
       "      <th>engagement_score</th>\n",
       "      <th>experience_score</th>\n",
       "      <th>satisfaction_score</th>\n",
       "      <th>cluster</th>\n",
       "    </tr>\n",
       "    <tr>\n",
       "      <th>MSISDN/Number</th>\n",
       "      <th></th>\n",
       "      <th></th>\n",
       "      <th></th>\n",
       "      <th></th>\n",
       "    </tr>\n",
       "  </thead>\n",
       "  <tbody>\n",
       "    <tr>\n",
       "      <th>3.360100e+10</th>\n",
       "      <td>15.192081</td>\n",
       "      <td>15.705071</td>\n",
       "      <td>15.448576</td>\n",
       "      <td>1</td>\n",
       "    </tr>\n",
       "    <tr>\n",
       "      <th>3.360100e+10</th>\n",
       "      <td>9.738230</td>\n",
       "      <td>12.439369</td>\n",
       "      <td>11.088799</td>\n",
       "      <td>1</td>\n",
       "    </tr>\n",
       "    <tr>\n",
       "      <th>3.360100e+10</th>\n",
       "      <td>9.669098</td>\n",
       "      <td>12.606526</td>\n",
       "      <td>11.137812</td>\n",
       "      <td>1</td>\n",
       "    </tr>\n",
       "    <tr>\n",
       "      <th>3.360101e+10</th>\n",
       "      <td>9.414621</td>\n",
       "      <td>11.689226</td>\n",
       "      <td>10.551924</td>\n",
       "      <td>1</td>\n",
       "    </tr>\n",
       "    <tr>\n",
       "      <th>3.360101e+10</th>\n",
       "      <td>6.465718</td>\n",
       "      <td>11.210234</td>\n",
       "      <td>8.837976</td>\n",
       "      <td>1</td>\n",
       "    </tr>\n",
       "  </tbody>\n",
       "</table>\n",
       "</div>"
      ],
      "text/plain": [
       "               engagement_score  experience_score  satisfaction_score  cluster\n",
       "MSISDN/Number                                                                 \n",
       "3.360100e+10          15.192081         15.705071           15.448576        1\n",
       "3.360100e+10           9.738230         12.439369           11.088799        1\n",
       "3.360100e+10           9.669098         12.606526           11.137812        1\n",
       "3.360101e+10           9.414621         11.689226           10.551924        1\n",
       "3.360101e+10           6.465718         11.210234            8.837976        1"
      ]
     },
     "execution_count": 28,
     "metadata": {},
     "output_type": "execute_result"
    }
   ],
   "source": [
    "df['cluster'] = label\n",
    "df.head()"
   ]
  }
 ],
 "metadata": {
  "kernelspec": {
   "display_name": "Python 3",
   "language": "python",
   "name": "python3"
  },
  "language_info": {
   "codemirror_mode": {
    "name": "ipython",
    "version": 3
   },
   "file_extension": ".py",
   "mimetype": "text/x-python",
   "name": "python",
   "nbconvert_exporter": "python",
   "pygments_lexer": "ipython3",
   "version": "3.10.1"
  }
 },
 "nbformat": 4,
 "nbformat_minor": 2
}
